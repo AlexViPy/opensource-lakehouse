{
 "cells": [
  {
   "cell_type": "code",
   "execution_count": 21,
   "id": "d8e50216-6693-4895-8c13-1657129ddd3f",
   "metadata": {
    "tags": []
   },
   "outputs": [],
   "source": [
    "import os\n",
    "from pyspark.sql import SparkSession\n",
    "from pyspark.sql.functions import count"
   ]
  },
  {
   "cell_type": "code",
   "execution_count": 3,
   "id": "0c43a829-c005-462c-968e-b34fa6e2afd3",
   "metadata": {
    "tags": []
   },
   "outputs": [],
   "source": [
    "AWS_S3_ENDPOINT = \"http://minio:9000\"\n",
    "AWS_BUCKET_NAME = \"data-platform-core\"\n",
    "EXTRA_CLASS_PATH_JARS = \",\".join(\n",
    "    os.path.join(\"/home/jovyan/work/.jars\", p) for p in os.listdir(\"/home/jovyan/work/.jars\")\n",
    ")"
   ]
  },
  {
   "cell_type": "code",
   "execution_count": 4,
   "id": "57bc919b-2450-4d97-9816-514584c753ae",
   "metadata": {
    "tags": []
   },
   "outputs": [],
   "source": [
    "spark = SparkSession.builder \\\n",
    "        .appName(\"Session of avitkovskiy\") \\\n",
    "        .master(\"spark://spark-master:7077\") \\\n",
    "        .config(\"hive.metastore.uris\", \"thrift://hive-metastore:9083\") \\\n",
    "        .config(\"spark.hadoop.fs.s3a.access.key\", os.getenv(\"AWS_ACCESS_KEY_ID\")) \\\n",
    "        .config(\"spark.hadoop.fs.s3a.secret.key\", os.getenv(\"AWS_SECRET_ACCESS_KEY\")) \\\n",
    "        .config(\"spark.hadoop.fs.s3a.endpoint\", AWS_S3_ENDPOINT) \\\n",
    "        .config(\"spark.hadoop.fs.s3a.path.style.access\", \"true\") \\\n",
    "        .config(\"spark.hadoop.fs.s3a.connection.ssl.enabled\", \"false\") \\\n",
    "        .config(\"spark.hadoop.fs.s3a.impl\", \"org.apache.hadoop.fs.s3a.S3AFileSystem\") \\\n",
    "        .config(\"spark.sql.extensions\", \"org.apache.iceberg.spark.extensions.IcebergSparkSessionExtensions\") \\\n",
    "        .config(\"spark.sql.catalog.spark_catalog\", \"org.apache.iceberg.spark.SparkCatalog\") \\\n",
    "        .config(\"spark.sql.catalog.spark_catalog.type\", \"hive\") \\\n",
    "        .config(\"spark.sql.catalog.spark_catalog.uri\", \"thrift://hive-metastore:9083\") \\\n",
    "        .config(\"spark.sql.catalog.spark_catalog.warehouse\", f\"s3a://{AWS_BUCKET_NAME}/\") \\\n",
    "        .config(\"spark.sql.warehouse.dir\", f\"s3a://{AWS_BUCKET_NAME}/\") \\\n",
    "        .config(\"spark.jars.packages\", \"org.apache.hadoop:hadoop-aws:3.3.4\") \\\n",
    "        .config(\"spark.jars\", EXTRA_CLASS_PATH_JARS) \\\n",
    "        .enableHiveSupport() \\\n",
    "        .getOrCreate()"
   ]
  },
  {
   "cell_type": "code",
   "execution_count": 11,
   "id": "52769f7c-07e5-4d9d-a2bd-c25efaafecc4",
   "metadata": {
    "tags": []
   },
   "outputs": [],
   "source": [
    "df = spark.read.option(\"header\", True).csv(\"s3a://raw-data/csv/games/fifa/2018_FIFA_WCS.csv\")"
   ]
  },
  {
   "cell_type": "code",
   "execution_count": 22,
   "id": "4b303c92-2162-4af8-a662-d5acc84866f5",
   "metadata": {
    "tags": []
   },
   "outputs": [
    {
     "name": "stdout",
     "output_type": "stream",
     "text": [
      "+-----------+-----+\n",
      "|Team       |count|\n",
      "+-----------+-----+\n",
      "|Russia     |23   |\n",
      "|Senegal    |23   |\n",
      "|Sweden     |23   |\n",
      "|Germany    |23   |\n",
      "|France     |23   |\n",
      "|Argentina  |23   |\n",
      "|Belgium    |23   |\n",
      "|Peru       |23   |\n",
      "|Croatia    |23   |\n",
      "|Nigeria    |23   |\n",
      "|Spain      |23   |\n",
      "|Denmark    |23   |\n",
      "|Iran       |23   |\n",
      "|Morocco    |23   |\n",
      "|Panama     |23   |\n",
      "|Iceland    |23   |\n",
      "|South Korea|23   |\n",
      "|Uruguay    |23   |\n",
      "|Mexico     |23   |\n",
      "|Tunisia    |23   |\n",
      "+-----------+-----+\n",
      "only showing top 20 rows\n",
      "\n"
     ]
    }
   ],
   "source": [
    "df.groupBy(\"Team\") \\\n",
    "    .agg(count(\"*\").alias(\"count\")\n",
    "     ) \\\n",
    "    .show(truncate=False)"
   ]
  },
  {
   "cell_type": "code",
   "execution_count": 23,
   "id": "f097ff4b-9b6b-49d8-b390-237d3e2b4bc5",
   "metadata": {
    "tags": []
   },
   "outputs": [
    {
     "name": "stdout",
     "output_type": "stream",
     "text": [
      "+------+-----+------------+--------+-----------------------+-------------+---+----+-----+----------------------+------------+\n",
      "|Team  |Group|Squad Number|Position|Player                 |Date Of Birth|Age|Caps|Goals|Club                  |Player Count|\n",
      "+------+-----+------------+--------+-----------------------+-------------+---+----+-----+----------------------+------------+\n",
      "|Russia|A    |1           |GK      |Igor Akinfeev (captain)|1986/04/08   |32 |105 |0    |CSKA Moscow           |1           |\n",
      "|Russia|A    |2           |DF      |Mário Fernandes        |1990/09/19   |27 |4   |0    |CSKA Moscow           |1           |\n",
      "|Russia|A    |3           |DF      |Ilya Kutepov           |1993/07/29   |24 |6   |0    |Spartak Moscow        |1           |\n",
      "|Russia|A    |4           |DF      |Sergei Ignashevich     |1979/07/14   |38 |121 |8    |CSKA Moscow           |1           |\n",
      "|Russia|A    |5           |DF      |Andrei Semyonov        |1989/03/24   |29 |6   |0    |Akhmat Grozny         |1           |\n",
      "|Russia|A    |6           |MF      |Denis Cheryshev        |1990/12/26   |27 |11  |0    |Villarreal            |1           |\n",
      "|Russia|A    |7           |MF      |Daler Kuzyayev         |1993/01/15   |25 |5   |0    |Zenit Saint Petersburg|1           |\n",
      "|Russia|A    |8           |MF      |Yury Gazinsky          |1989/07/20   |28 |5   |0    |Krasnodar             |1           |\n",
      "|Russia|A    |9           |MF      |Alan Dzagoev           |1990/06/17   |27 |56  |9    |CSKA Moscow           |1           |\n",
      "|Russia|A    |10          |FW      |Fyodor Smolov          |1990/02/09   |28 |31  |12   |Krasnodar             |1           |\n",
      "|Russia|A    |11          |MF      |Roman Zobnin           |1994/02/11   |24 |11  |0    |Spartak Moscow        |1           |\n",
      "|Russia|A    |12          |GK      |Andrey Lunyov          |1991/11/13   |26 |3   |0    |Zenit Saint Petersburg|1           |\n",
      "|Russia|A    |13          |DF      |Fyodor Kudryashov      |1987/04/05   |31 |18  |0    |Rubin Kazan           |1           |\n",
      "|Russia|A    |14          |DF      |Vladimir Granat        |1987/05/22   |31 |12  |1    |Rubin Kazan           |1           |\n",
      "|Russia|A    |15          |MF      |Aleksei Miranchuk      |1995/10/17   |22 |17  |4    |Lokomotiv Moscow      |1           |\n",
      "|Russia|A    |16          |MF      |Anton Miranchuk        |1995/10/17   |22 |5   |0    |Lokomotiv Moscow      |1           |\n",
      "|Russia|A    |17          |MF      |Aleksandr Golovin      |1996/05/30   |22 |18  |2    |CSKA Moscow           |1           |\n",
      "|Russia|A    |18          |MF      |Yuri Zhirkov           |1983/08/20   |34 |83  |2    |Zenit Saint Petersburg|1           |\n",
      "|Russia|A    |19          |MF      |Aleksandr Samedov      |1984/07/19   |33 |47  |6    |Spartak Moscow        |1           |\n",
      "|Russia|A    |20          |GK      |Vladimir Gabulov       |1983/10/19   |34 |10  |0    |Club Brugge           |1           |\n",
      "+------+-----+------------+--------+-----------------------+-------------+---+----+-----+----------------------+------------+\n",
      "only showing top 20 rows\n",
      "\n"
     ]
    }
   ],
   "source": [
    "df.filter(df.Team == \"Russia\").show(truncate=False)"
   ]
  },
  {
   "cell_type": "code",
   "execution_count": null,
   "id": "439d7e18-cf5c-423b-bf5e-64ddfda7be60",
   "metadata": {},
   "outputs": [],
   "source": []
  }
 ],
 "metadata": {
  "kernelspec": {
   "display_name": "Python 3 (ipykernel)",
   "language": "python",
   "name": "python3"
  },
  "language_info": {
   "codemirror_mode": {
    "name": "ipython",
    "version": 3
   },
   "file_extension": ".py",
   "mimetype": "text/x-python",
   "name": "python",
   "nbconvert_exporter": "python",
   "pygments_lexer": "ipython3",
   "version": "3.10.10"
  }
 },
 "nbformat": 4,
 "nbformat_minor": 5
}
